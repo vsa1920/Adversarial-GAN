{
  "nbformat": 4,
  "nbformat_minor": 0,
  "metadata": {
    "colab": {
      "provenance": [],
      "toc_visible": true
    },
    "kernelspec": {
      "name": "python3",
      "display_name": "Python 3"
    },
    "language_info": {
      "name": "python"
    },
    "accelerator": "GPU",
    "gpuClass": "premium"
  },
  "cells": [
    {
      "cell_type": "code",
      "source": [
        "from matplotlib import pyplot as plt\n",
        "import torch\n",
        "import torchvision.datasets\n",
        "import torchvision.transforms as transforms\n",
        "from torch.utils.data import DataLoader\n",
        "import torch.nn.functional as F\n",
        "import torchsummary\n",
        "from torch import nn"
      ],
      "metadata": {
        "id": "LzO6SCfMIaZD"
      },
      "execution_count": null,
      "outputs": []
    },
    {
      "cell_type": "code",
      "execution_count": null,
      "metadata": {
        "id": "9QWkK346ljwT",
        "colab": {
          "base_uri": "https://localhost:8080/"
        },
        "outputId": "e6b06f0b-ae62-467d-b79f-658953315b3e"
      },
      "outputs": [
        {
          "output_type": "stream",
          "name": "stdout",
          "text": [
            "Mounted at /content/drive\n"
          ]
        }
      ],
      "source": [
        "from google.colab import drive\n",
        "drive.mount('/content/drive')"
      ]
    },
    {
      "cell_type": "code",
      "source": [
        "cd \"/content/drive/MyDrive/Fall-2022/ESE-546/Project_updated\""
      ],
      "metadata": {
        "colab": {
          "base_uri": "https://localhost:8080/"
        },
        "id": "B-miG-uWl3F1",
        "outputId": "81fe929f-6bcd-48c5-8710-32b50d6fe0e7"
      },
      "execution_count": null,
      "outputs": [
        {
          "output_type": "stream",
          "name": "stdout",
          "text": [
            "/content/drive/MyDrive/Fall-2022/ESE-546/Project_updated\n"
          ]
        }
      ]
    },
    {
      "cell_type": "markdown",
      "source": [
        "# Loading the Dataset and Target Model\n",
        "\n",
        "Since our attack is semiwhite box we still need to train our model on the same dataset to generate new adversarial examples."
      ],
      "metadata": {
        "id": "KJ3UFbuk-MdG"
      }
    },
    {
      "cell_type": "code",
      "source": [
        "use_cuda = True\n",
        "image_nc = 3\n",
        "batch_size = 256\n",
        "\n",
        "# Define what device we are using\n",
        "print(\"CUDA Available: \", torch.cuda.is_available())\n",
        "device = torch.device(\"cuda\" if (use_cuda and torch.cuda.is_available()) else \"cpu\")\n",
        "\n",
        "train_transforms = train_transform = transforms.Compose(\n",
        "    [transforms.ToTensor(),\n",
        "     transforms.Normalize((0.5, 0.5, 0.5), (0.5, 0.5, 0.5))])\n",
        "     \n",
        "cifar10_dataset = torchvision.datasets.CIFAR10('./dataset', train=True, transform=train_transforms, download=True)\n",
        "train_dataloader = DataLoader(cifar10_dataset, batch_size=batch_size, shuffle=False, num_workers=1)"
      ],
      "metadata": {
        "colab": {
          "base_uri": "https://localhost:8080/"
        },
        "id": "uspRChTfzxQk",
        "outputId": "76ec4b0e-cf53-4dae-95b0-988966606fd7"
      },
      "execution_count": null,
      "outputs": [
        {
          "output_type": "stream",
          "name": "stdout",
          "text": [
            "CUDA Available:  True\n",
            "Files already downloaded and verified\n"
          ]
        }
      ]
    },
    {
      "cell_type": "markdown",
      "source": [
        "While, we don't need the model architecture or weights for our attack, we still need to query the model multiple times. We don't have a packaged model, so we just reload the model class and weights but we only use it to query and never access the weights of the model throughout the attack."
      ],
      "metadata": {
        "id": "h9HZX6qE-fsf"
      }
    },
    {
      "cell_type": "code",
      "source": [
        "class BaseModel_All_CNN(nn.Module):\n",
        "    def __init__(self, c1=96, c2= 192):\n",
        "        super().__init__()\n",
        "\n",
        "        def convbn(input, output, kernel_size, stride=1, padding=0):\n",
        "            return nn.Sequential(\n",
        "                nn.Conv2d(input, output, kernel_size, stride=stride, padding=padding),\n",
        "                nn.ReLU(True),\n",
        "                nn.BatchNorm2d(output))\n",
        "\n",
        "        self.net = nn.Sequential(\n",
        "            nn.Dropout(0.2),\n",
        "            convbn(3, c1, 3, 1, 1),\n",
        "            convbn(c1, c1, 3, 1, 1),\n",
        "            convbn(c1, c1, 3, 2, 1),\n",
        "\n",
        "            nn.Dropout(0.5),\n",
        "            convbn(c1, c2, 3, 1, 1),\n",
        "            convbn(c2, c2, 3, 1, 1),\n",
        "            convbn(c2, c2, 3, 2, 1),\n",
        "\n",
        "            nn.Dropout(0.5),\n",
        "            convbn(c2, c2, 3, 1, 1),\n",
        "            convbn(c2, c2, 3, 1, 1),\n",
        "            convbn(c2, 10, 1, 1),\n",
        "\n",
        "            nn.AvgPool2d(8))\n",
        "\n",
        "        print('Num parameters: ', sum([params.numel() for params in self.net.parameters()]))\n",
        "\n",
        "    def forward(self, x):\n",
        "        x = self.net(x)\n",
        "        x = x.view(-1, 10)\n",
        "        return x"
      ],
      "metadata": {
        "id": "RgIG1zHB2vF2"
      },
      "execution_count": null,
      "outputs": []
    },
    {
      "cell_type": "code",
      "source": [
        "TARGET_MODEL_PATH = './CIFAR10_target_model.pth'\n",
        "\n",
        "# Load trained base model\n",
        "targeted_model = BaseModel_All_CNN().to(device)\n",
        "targeted_model.load_state_dict(torch.load(TARGET_MODEL_PATH))\n",
        "targeted_model.eval()"
      ],
      "metadata": {
        "colab": {
          "base_uri": "https://localhost:8080/"
        },
        "id": "BfiJp0M2-8EG",
        "outputId": "4c5796c2-868e-4fab-9514-3276090e8720"
      },
      "execution_count": null,
      "outputs": [
        {
          "output_type": "stream",
          "name": "stdout",
          "text": [
            "Num parameters:  1667166\n"
          ]
        },
        {
          "output_type": "execute_result",
          "data": {
            "text/plain": [
              "BaseModel_All_CNN(\n",
              "  (net): Sequential(\n",
              "    (0): Dropout(p=0.2, inplace=False)\n",
              "    (1): Sequential(\n",
              "      (0): Conv2d(3, 96, kernel_size=(3, 3), stride=(1, 1), padding=(1, 1))\n",
              "      (1): ReLU(inplace=True)\n",
              "      (2): BatchNorm2d(96, eps=1e-05, momentum=0.1, affine=True, track_running_stats=True)\n",
              "    )\n",
              "    (2): Sequential(\n",
              "      (0): Conv2d(96, 96, kernel_size=(3, 3), stride=(1, 1), padding=(1, 1))\n",
              "      (1): ReLU(inplace=True)\n",
              "      (2): BatchNorm2d(96, eps=1e-05, momentum=0.1, affine=True, track_running_stats=True)\n",
              "    )\n",
              "    (3): Sequential(\n",
              "      (0): Conv2d(96, 96, kernel_size=(3, 3), stride=(2, 2), padding=(1, 1))\n",
              "      (1): ReLU(inplace=True)\n",
              "      (2): BatchNorm2d(96, eps=1e-05, momentum=0.1, affine=True, track_running_stats=True)\n",
              "    )\n",
              "    (4): Dropout(p=0.5, inplace=False)\n",
              "    (5): Sequential(\n",
              "      (0): Conv2d(96, 192, kernel_size=(3, 3), stride=(1, 1), padding=(1, 1))\n",
              "      (1): ReLU(inplace=True)\n",
              "      (2): BatchNorm2d(192, eps=1e-05, momentum=0.1, affine=True, track_running_stats=True)\n",
              "    )\n",
              "    (6): Sequential(\n",
              "      (0): Conv2d(192, 192, kernel_size=(3, 3), stride=(1, 1), padding=(1, 1))\n",
              "      (1): ReLU(inplace=True)\n",
              "      (2): BatchNorm2d(192, eps=1e-05, momentum=0.1, affine=True, track_running_stats=True)\n",
              "    )\n",
              "    (7): Sequential(\n",
              "      (0): Conv2d(192, 192, kernel_size=(3, 3), stride=(2, 2), padding=(1, 1))\n",
              "      (1): ReLU(inplace=True)\n",
              "      (2): BatchNorm2d(192, eps=1e-05, momentum=0.1, affine=True, track_running_stats=True)\n",
              "    )\n",
              "    (8): Dropout(p=0.5, inplace=False)\n",
              "    (9): Sequential(\n",
              "      (0): Conv2d(192, 192, kernel_size=(3, 3), stride=(1, 1), padding=(1, 1))\n",
              "      (1): ReLU(inplace=True)\n",
              "      (2): BatchNorm2d(192, eps=1e-05, momentum=0.1, affine=True, track_running_stats=True)\n",
              "    )\n",
              "    (10): Sequential(\n",
              "      (0): Conv2d(192, 192, kernel_size=(3, 3), stride=(1, 1), padding=(1, 1))\n",
              "      (1): ReLU(inplace=True)\n",
              "      (2): BatchNorm2d(192, eps=1e-05, momentum=0.1, affine=True, track_running_stats=True)\n",
              "    )\n",
              "    (11): Sequential(\n",
              "      (0): Conv2d(192, 10, kernel_size=(1, 1), stride=(1, 1))\n",
              "      (1): ReLU(inplace=True)\n",
              "      (2): BatchNorm2d(10, eps=1e-05, momentum=0.1, affine=True, track_running_stats=True)\n",
              "    )\n",
              "    (12): AvgPool2d(kernel_size=8, stride=8, padding=0)\n",
              "  )\n",
              ")"
            ]
          },
          "metadata": {},
          "execution_count": 6
        }
      ]
    },
    {
      "cell_type": "code",
      "source": [
        "# CIFAR-10 test dataset\n",
        "test_transforms = transforms.Compose(\n",
        "    [transforms.ToTensor(),\n",
        "     transforms.Normalize((0.5, 0.5, 0.5), (0.5, 0.5, 0.5))])\n",
        "cifar_dataset_test = torchvision.datasets.CIFAR10('./dataset', train=False, transform=test_transforms, download=True)\n",
        "test_dataloader = DataLoader(cifar_dataset_test, batch_size=batch_size, shuffle=True, num_workers=1)\n",
        "num_correct = 0\n",
        "for i, data in enumerate(test_dataloader, 0):\n",
        "    test_img, test_label = data\n",
        "    test_img, test_label = test_img.to(device), test_label.to(device)\n",
        "    pred_lab = torch.argmax(targeted_model(test_img), 1)\n",
        "    num_correct += torch.sum(pred_lab==test_label,0)\n",
        "print('accuracy in testing set: %f\\n'%(num_correct.item()/len(cifar_dataset_test)))"
      ],
      "metadata": {
        "colab": {
          "base_uri": "https://localhost:8080/"
        },
        "id": "FzMxDnKF0PFH",
        "outputId": "b353c420-15b7-43e3-a52b-19c6f3966e4d"
      },
      "execution_count": null,
      "outputs": [
        {
          "output_type": "stream",
          "name": "stdout",
          "text": [
            "Files already downloaded and verified\n",
            "accuracy in testing set: 0.874100\n",
            "\n"
          ]
        }
      ]
    },
    {
      "cell_type": "markdown",
      "source": [
        "# Implementation of GANs\n",
        "Discriminator and Generator implementation"
      ],
      "metadata": {
        "id": "fRolbcO--5Vu"
      }
    },
    {
      "cell_type": "code",
      "source": [
        "class Discriminator(nn.Module):\n",
        "    def __init__(self, image_nc):\n",
        "        super(Discriminator, self).__init__()\n",
        "        # CIFAR-10: 3*32*32\n",
        "        model = [\n",
        "            nn.Conv2d(image_nc, 8, kernel_size=3, stride=1, padding=1, bias=True),\n",
        "            nn.LeakyReLU(0.2),\n",
        "            # 8*32*32\n",
        "            nn.Conv2d(8, 16, kernel_size=3, stride=1, padding=1, bias=True),\n",
        "            nn.BatchNorm2d(16),\n",
        "            nn.LeakyReLU(0.2),\n",
        "            nn.MaxPool2d(2),\n",
        "            # 16*16*16\n",
        "            nn.Conv2d(16, 32, kernel_size=3, stride=1, padding=1, bias=True),\n",
        "            nn.BatchNorm2d(32),\n",
        "            nn.LeakyReLU(0.2),\n",
        "            nn.MaxPool2d(2),\n",
        "            # 32*8*8\n",
        "            nn.Conv2d(32, 32, kernel_size=3, stride=1, padding=1, bias=True),\n",
        "            nn.BatchNorm2d(32),\n",
        "            nn.LeakyReLU(0.2),\n",
        "            nn.MaxPool2d(2),\n",
        "            # 32*4*4\n",
        "            nn.Conv2d(32, 32, kernel_size=3, stride=1, padding=1, bias=True),\n",
        "            nn.BatchNorm2d(32),\n",
        "            nn.LeakyReLU(0.2),\n",
        "            nn.MaxPool2d(2),\n",
        "            # 32*2*2\n",
        "            nn.Conv2d(32, 1, kernel_size=2, stride=1, padding=0),\n",
        "            nn.Sigmoid()\n",
        "            # 1*1*1\n",
        "        ]\n",
        "        self.model = nn.Sequential(*model)\n",
        "\n",
        "    def forward(self, x):\n",
        "        output = self.model(x).squeeze()\n",
        "        return output"
      ],
      "metadata": {
        "id": "E8aCpqk0kieb"
      },
      "execution_count": null,
      "outputs": []
    },
    {
      "cell_type": "code",
      "source": [
        "class ResnetBlock(nn.Module):\n",
        "    def __init__(self, dim, padding_type='reflect', norm_layer=nn.BatchNorm2d, use_dropout=False, use_bias=False):\n",
        "        super(ResnetBlock, self).__init__()\n",
        "        self.conv_block = self.build_conv_block(dim, padding_type, norm_layer, use_dropout, use_bias)\n",
        "\n",
        "    def build_conv_block(self, dim, padding_type, norm_layer, use_dropout, use_bias):\n",
        "        conv_block = []\n",
        "        p = 0\n",
        "        if padding_type == 'reflect':\n",
        "            conv_block += [nn.ReflectionPad2d(1)]\n",
        "        elif padding_type == 'replicate':\n",
        "            conv_block += [nn.ReplicationPad2d(1)]\n",
        "        elif padding_type == 'zero':\n",
        "            p = 1\n",
        "        else:\n",
        "            raise NotImplementedError('padding [%s] is not implemented' % padding_type)\n",
        "\n",
        "        conv_block += [nn.Conv2d(dim, dim, kernel_size=3, padding=p, bias=use_bias),\n",
        "                       norm_layer(dim),\n",
        "                       nn.ReLU(True)]\n",
        "        if use_dropout:\n",
        "            conv_block += [nn.Dropout(0.5)]\n",
        "\n",
        "        p = 0\n",
        "        if padding_type == 'reflect':\n",
        "            conv_block += [nn.ReflectionPad2d(1)]\n",
        "        elif padding_type == 'replicate':\n",
        "            conv_block += [nn.ReplicationPad2d(1)]\n",
        "        elif padding_type == 'zero':\n",
        "            p = 1\n",
        "        else:\n",
        "            raise NotImplementedError('padding [%s] is not implemented' % padding_type)\n",
        "\n",
        "        conv_block += [nn.Conv2d(dim, dim, kernel_size=3, padding=p, bias=use_bias),\n",
        "                       norm_layer(dim)]\n",
        "\n",
        "        return nn.Sequential(*conv_block)\n",
        "\n",
        "    def forward(self, x):\n",
        "        out = x + self.conv_block(x)\n",
        "        return out"
      ],
      "metadata": {
        "id": "Pt673Pevl-9_"
      },
      "execution_count": null,
      "outputs": []
    },
    {
      "cell_type": "code",
      "source": [
        "class Generator(nn.Module):\n",
        "    def __init__(self,\n",
        "                 gen_input_nc,\n",
        "                 image_nc,\n",
        "                 ):\n",
        "        super(Generator, self).__init__()\n",
        "\n",
        "        encoder_lis = [\n",
        "            # CIFAR10:3*32*32\n",
        "            nn.Conv2d(gen_input_nc, 8, kernel_size=5, stride=1, padding=0, bias=True),\n",
        "            nn.InstanceNorm2d(8),\n",
        "            nn.ReLU(),\n",
        "            # 8*28*28\n",
        "            nn.Conv2d(8, 8, kernel_size=3, stride=1, padding=0, bias=True),\n",
        "            nn.InstanceNorm2d(8),\n",
        "            nn.ReLU(),\n",
        "            # 8*26*26\n",
        "            nn.Conv2d(8, 16, kernel_size=3, stride=2, padding=0, bias=True),\n",
        "            nn.InstanceNorm2d(16),\n",
        "            nn.ReLU(),\n",
        "            # 16*12*12\n",
        "            nn.Conv2d(16, 32, kernel_size=3, stride=2, padding=0, bias=True),\n",
        "            nn.InstanceNorm2d(32),\n",
        "            nn.ReLU(),\n",
        "            # 32*5*5\n",
        "        ]\n",
        "\n",
        "        bottle_neck_lis = [ResnetBlock(32),\n",
        "                       ResnetBlock(32),\n",
        "                       ResnetBlock(32),\n",
        "                       ResnetBlock(32),]\n",
        "\n",
        "        decoder_lis = [\n",
        "            nn.ConvTranspose2d(32, 16, kernel_size=3, stride=2, padding=0, bias=False),\n",
        "            nn.InstanceNorm2d(16),\n",
        "            nn.ReLU(),\n",
        "            # state size. 16 x 11 x 11\n",
        "            nn.ConvTranspose2d(16, 8, kernel_size=3, stride=2, padding=0, bias=False),\n",
        "            nn.InstanceNorm2d(8),\n",
        "            nn.ReLU(),\n",
        "            # state size. 8 x 23 x 23\n",
        "            nn.ConvTranspose2d(8, 8, kernel_size=5, stride=1, padding=0, bias=False),\n",
        "            nn.InstanceNorm2d(8),\n",
        "            nn.ReLU(),\n",
        "            # state size, 8 x 27 x 27 \n",
        "            nn.ConvTranspose2d(8, image_nc, kernel_size=6, stride=1, padding=0, bias=False),\n",
        "            nn.Tanh()\n",
        "            # state size. image_nc x 32 x 32\n",
        "        ]\n",
        "\n",
        "        self.encoder = nn.Sequential(*encoder_lis)\n",
        "        self.bottle_neck = nn.Sequential(*bottle_neck_lis)\n",
        "        self.decoder = nn.Sequential(*decoder_lis)\n",
        "\n",
        "    def forward(self, x):\n",
        "        x = self.encoder(x)\n",
        "        x = self.bottle_neck(x)\n",
        "        x = self.decoder(x)\n",
        "        return x"
      ],
      "metadata": {
        "id": "uF1EfMPMl4mL"
      },
      "execution_count": null,
      "outputs": []
    },
    {
      "cell_type": "markdown",
      "source": [
        "# Adversarial GAN attack for generating adversarial examples"
      ],
      "metadata": {
        "id": "QjHQhruG_cR7"
      }
    },
    {
      "cell_type": "code",
      "source": [
        "adv_losses = []\n",
        "disc_losses = []\n",
        "pert_losses = []\n",
        "gen_losses = []"
      ],
      "metadata": {
        "id": "789vXc9Ilbrg"
      },
      "execution_count": null,
      "outputs": []
    },
    {
      "cell_type": "code",
      "source": [
        "import os\n",
        "models_path = './models/'\n",
        "\n",
        "# custom weights initialization called on netG and netD\n",
        "def weights_init(m):\n",
        "    classname = m.__class__.__name__\n",
        "    if classname.find('Conv') != -1:\n",
        "        nn.init.normal_(m.weight.data, 0.0, 0.02)\n",
        "    elif classname.find('BatchNorm') != -1:\n",
        "        nn.init.normal_(m.weight.data, 1.0, 0.02)\n",
        "        nn.init.constant_(m.bias.data, 0)\n",
        "\n",
        "\n",
        "class AdvGAN_Attack:\n",
        "    def __init__(self,\n",
        "                 device,\n",
        "                 model,\n",
        "                 model_num_labels,\n",
        "                 image_nc,\n",
        "                 box_min,\n",
        "                 box_max):\n",
        "        output_nc = image_nc\n",
        "        self.device = device\n",
        "        self.model_num_labels = model_num_labels\n",
        "        self.model = model\n",
        "        self.input_nc = image_nc\n",
        "        self.output_nc = output_nc\n",
        "        self.box_min = box_min\n",
        "        self.box_max = box_max\n",
        "\n",
        "        self.gen_input_nc = image_nc\n",
        "        self.netG = Generator(self.gen_input_nc, image_nc).to(device)\n",
        "        self.netDisc = Discriminator(image_nc).to(device)\n",
        "\n",
        "        # initialize all weights\n",
        "        self.netG.apply(weights_init)\n",
        "        self.netDisc.apply(weights_init)\n",
        "\n",
        "        # initialize optimizers\n",
        "        self.optimizer_G = torch.optim.Adam(self.netG.parameters(),\n",
        "                                            lr=0.001, weight_decay=1e-3)\n",
        "        self.optimizer_D = torch.optim.Adam(self.netDisc.parameters(),\n",
        "                                            lr=0.001, weight_decay=1e-3)\n",
        "\n",
        "        if not os.path.exists(models_path):\n",
        "            os.makedirs(models_path)\n",
        "\n",
        "    def train_batch(self, x, labels):\n",
        "        # optimize D\n",
        "        for i in range(1):\n",
        "            perturbation = self.netG(x)\n",
        "\n",
        "            # add a clipping trick\n",
        "            adv_images = torch.clamp(perturbation, -0.3, 0.3) + x\n",
        "            adv_images = torch.clamp(adv_images, self.box_min, self.box_max)\n",
        "\n",
        "            self.optimizer_D.zero_grad()\n",
        "            pred_real = self.netDisc(x)\n",
        "            loss_D_real = F.mse_loss(pred_real, torch.ones_like(pred_real, device=self.device))\n",
        "            loss_D_real.backward()\n",
        "\n",
        "            pred_fake = self.netDisc(adv_images.detach())\n",
        "            loss_D_fake = F.mse_loss(pred_fake, torch.zeros_like(pred_fake, device=self.device))\n",
        "            loss_D_fake.backward()\n",
        "            loss_D_GAN = loss_D_fake + loss_D_real\n",
        "            self.optimizer_D.step()\n",
        "\n",
        "        # optimize G\n",
        "        for i in range(1):\n",
        "            self.optimizer_G.zero_grad()\n",
        "\n",
        "            # cal G's loss in GAN\n",
        "            pred_fake = self.netDisc(adv_images)\n",
        "            loss_G_fake = F.mse_loss(pred_fake, torch.ones_like(pred_fake, device=self.device))\n",
        "            #loss_G_fake.backward(retain_graph=True)\n",
        "\n",
        "            # calculate perturbation norm\n",
        "            C = 1e-4\n",
        "            loss_perturb = torch.mean(torch.norm(perturbation.view(perturbation.shape[0], -1), 2, dim=1))\n",
        "            loss_perturb = torch.max(loss_perturb - C, torch.zeros(1, device=self.device))\n",
        "\n",
        "            # cal adv loss\n",
        "            logits_model = self.model(adv_images)\n",
        "            probs_model = F.softmax(logits_model, dim=1)\n",
        "            onehot_labels = torch.eye(self.model_num_labels, device=self.device)[labels]\n",
        "\n",
        "            # C&W loss function\n",
        "            real = torch.sum(onehot_labels * probs_model, dim=1)\n",
        "            other, _ = torch.max((1 - onehot_labels) * probs_model - onehot_labels * 10000, dim=1)\n",
        "            zeros = torch.zeros_like(other)\n",
        "            loss_adv = torch.max(real - other, zeros)\n",
        "            loss_adv = torch.sum(loss_adv)\n",
        "\n",
        "            # maximize cross_entropy loss\n",
        "            # loss_adv = -F.mse_loss(logits_model, onehot_labels)\n",
        "            # loss_adv = - F.cross_entropy(logits_model, labels)\n",
        "\n",
        "            adv_lambda = 100\n",
        "            pert_lambda = 500\n",
        "            gan_lambda = 10\n",
        "            loss_G = adv_lambda * loss_adv + pert_lambda * loss_perturb + gan_lambda * loss_G_fake\n",
        "            loss_G.backward()\n",
        "            self.optimizer_G.step()\n",
        "\n",
        "        return loss_D_GAN.item(), loss_G_fake.item(), loss_perturb.item(), loss_adv.item()\n",
        "\n",
        "    def train(self, train_dataloader, epochs):\n",
        "        for epoch in range(1, epochs+1):\n",
        "\n",
        "            if epoch == 50:\n",
        "                #self.optimizer_G = torch.optim.Adam(self.netG.parameters(),\n",
        "                #                                    lr=0.0001)\n",
        "                #for op_g in self.optimizer_G.param_groups:\n",
        "                #  op_g['lr'] = 0.0001\n",
        "                #self.optimizer_D = torch.optim.Adam(self.netDisc.parameters(),\n",
        "                #                                    lr=0.0001)\n",
        "                for op_d in self.optimizer_D.param_groups:\n",
        "                  op_d['lr'] = 0.0001\n",
        "            if epoch == 80:\n",
        "                #self.optimizer_G = torch.optim.Adam(self.netG.parameters(),\n",
        "                #                                    lr=0.00001)\n",
        "                for op_g in self.optimizer_G.param_groups:\n",
        "                  op_g['lr'] = 0.00001\n",
        "                #self.optimizer_D = torch.optim.Adam(self.netDisc.parameters(),\n",
        "                #                                    lr=0.00001)\n",
        "                for op_d in self.optimizer_D.param_groups:\n",
        "                  op_d['lr'] = 0.00001\n",
        "            loss_D_sum = 0\n",
        "            loss_G_fake_sum = 0\n",
        "            loss_perturb_sum = 0\n",
        "            loss_adv_sum = 0\n",
        "            for i, data in enumerate(train_dataloader, start=0):\n",
        "                images, labels = data\n",
        "                images, labels = images.to(self.device), labels.to(self.device)\n",
        "\n",
        "                loss_D_batch, loss_G_fake_batch, loss_perturb_batch, loss_adv_batch = \\\n",
        "                    self.train_batch(images, labels)\n",
        "                loss_D_sum += loss_D_batch\n",
        "                loss_G_fake_sum += loss_G_fake_batch\n",
        "                loss_perturb_sum += loss_perturb_batch\n",
        "                loss_adv_sum += loss_adv_batch\n",
        "\n",
        "            # print statistics\n",
        "            num_batch = len(train_dataloader)\n",
        "            disc_losses.append(loss_D_sum/num_batch)\n",
        "            pert_losses.append(loss_perturb_sum/num_batch)\n",
        "            adv_losses.append(loss_adv_sum/num_batch)\n",
        "            gen_losses.append(loss_G_fake_sum/num_batch)\n",
        "            print(\"epoch %d:\\nloss_D: %f, loss_G_fake: %.3f,\\\n",
        "             \\nloss_perturb: %.3f, loss_adv: %.3f, \\n\" %\n",
        "                  (epoch, loss_D_sum/num_batch, loss_G_fake_sum/num_batch,\n",
        "                   loss_perturb_sum/num_batch, loss_adv_sum/num_batch))\n",
        "\n",
        "            # save generator\n",
        "            if epoch%20==0:\n",
        "                netG_file_name = models_path + 'netG_epoch_' + str(epoch) + '.pth'\n",
        "                torch.save(self.netG.state_dict(), netG_file_name)\n"
      ],
      "metadata": {
        "id": "_kNgRQf5oyea"
      },
      "execution_count": null,
      "outputs": []
    },
    {
      "cell_type": "code",
      "source": [
        "use_cuda = True\n",
        "image_nc = 3\n",
        "epochs = 100\n",
        "batch_size = 128\n",
        "BOX_MIN = 0\n",
        "BOX_MAX = 1\n",
        "\n",
        "# Define what device we are using\n",
        "print(\"CUDA Available: \", torch.cuda.is_available())\n",
        "device = torch.device(\"cuda\" if (use_cuda and torch.cuda.is_available()) else \"cpu\")\n",
        "model_num_labels = 10\n",
        "\n",
        "# CIFAR-10 train dataset and dataloader declaration\n",
        "cifar10_dataset = torchvision.datasets.CIFAR10('./dataset', train=True, transform=transforms.ToTensor(), download=True)\n",
        "dataloader = DataLoader(cifar10_dataset, batch_size=batch_size, shuffle=True, num_workers=1)\n",
        "\n",
        "adv_losses = []\n",
        "disc_losses = []\n",
        "pert_losses = []\n",
        "\n",
        "advGAN = AdvGAN_Attack(device, targeted_model,\n",
        "                       model_num_labels,\n",
        "                       image_nc,\n",
        "                       BOX_MIN,\n",
        "                       BOX_MAX)\n",
        "\n",
        "advGAN.train(dataloader, epochs)"
      ],
      "metadata": {
        "colab": {
          "base_uri": "https://localhost:8080/"
        },
        "id": "BlpGjHDb5HGc",
        "outputId": "01b0b715-8eb6-4cf1-9713-601cc27e064a"
      },
      "execution_count": null,
      "outputs": [
        {
          "output_type": "stream",
          "name": "stdout",
          "text": [
            "CUDA Available:  True\n",
            "Files already downloaded and verified\n",
            "epoch 1:\n",
            "loss_D: 0.007179, loss_G_fake: 0.964,             \n",
            "loss_perturb: 5.055, loss_adv: 9.665, \n",
            "\n",
            "epoch 2:\n",
            "loss_D: 0.000158, loss_G_fake: 0.982,             \n",
            "loss_perturb: 4.619, loss_adv: 7.782, \n",
            "\n",
            "epoch 3:\n",
            "loss_D: 0.000247, loss_G_fake: 0.978,             \n",
            "loss_perturb: 4.577, loss_adv: 7.375, \n",
            "\n",
            "epoch 4:\n",
            "loss_D: 0.000265, loss_G_fake: 0.977,             \n",
            "loss_perturb: 4.568, loss_adv: 6.822, \n",
            "\n",
            "epoch 5:\n",
            "loss_D: 0.000242, loss_G_fake: 0.978,             \n",
            "loss_perturb: 4.523, loss_adv: 6.620, \n",
            "\n",
            "epoch 6:\n",
            "loss_D: 0.000218, loss_G_fake: 0.979,             \n",
            "loss_perturb: 4.466, loss_adv: 6.444, \n",
            "\n",
            "epoch 7:\n",
            "loss_D: 0.000203, loss_G_fake: 0.980,             \n",
            "loss_perturb: 4.456, loss_adv: 6.319, \n",
            "\n",
            "epoch 8:\n",
            "loss_D: 0.000195, loss_G_fake: 0.980,             \n",
            "loss_perturb: 4.353, loss_adv: 6.210, \n",
            "\n",
            "epoch 9:\n",
            "loss_D: 0.000191, loss_G_fake: 0.981,             \n",
            "loss_perturb: 4.319, loss_adv: 6.109, \n",
            "\n",
            "epoch 10:\n",
            "loss_D: 0.000189, loss_G_fake: 0.981,             \n",
            "loss_perturb: 4.303, loss_adv: 6.354, \n",
            "\n",
            "epoch 11:\n",
            "loss_D: 0.000188, loss_G_fake: 0.981,             \n",
            "loss_perturb: 4.425, loss_adv: 6.588, \n",
            "\n",
            "epoch 12:\n",
            "loss_D: 0.000187, loss_G_fake: 0.981,             \n",
            "loss_perturb: 4.395, loss_adv: 6.402, \n",
            "\n",
            "epoch 13:\n",
            "loss_D: 0.000187, loss_G_fake: 0.981,             \n",
            "loss_perturb: 4.389, loss_adv: 6.379, \n",
            "\n",
            "epoch 14:\n",
            "loss_D: 0.000186, loss_G_fake: 0.981,             \n",
            "loss_perturb: 4.339, loss_adv: 6.087, \n",
            "\n",
            "epoch 15:\n",
            "loss_D: 0.000186, loss_G_fake: 0.981,             \n",
            "loss_perturb: 4.323, loss_adv: 5.984, \n",
            "\n",
            "epoch 16:\n",
            "loss_D: 0.000186, loss_G_fake: 0.981,             \n",
            "loss_perturb: 4.303, loss_adv: 6.094, \n",
            "\n",
            "epoch 17:\n",
            "loss_D: 0.014243, loss_G_fake: 0.958,             \n",
            "loss_perturb: 4.348, loss_adv: 6.740, \n",
            "\n",
            "epoch 18:\n",
            "loss_D: 0.000163, loss_G_fake: 0.985,             \n",
            "loss_perturb: 4.331, loss_adv: 6.278, \n",
            "\n",
            "epoch 19:\n",
            "loss_D: 0.000152, loss_G_fake: 0.984,             \n",
            "loss_perturb: 4.258, loss_adv: 6.105, \n",
            "\n",
            "epoch 20:\n",
            "loss_D: 0.000184, loss_G_fake: 0.982,             \n",
            "loss_perturb: 4.258, loss_adv: 6.023, \n",
            "\n",
            "epoch 21:\n",
            "loss_D: 0.000190, loss_G_fake: 0.981,             \n",
            "loss_perturb: 4.201, loss_adv: 5.806, \n",
            "\n",
            "epoch 22:\n",
            "loss_D: 0.000191, loss_G_fake: 0.981,             \n",
            "loss_perturb: 4.179, loss_adv: 5.684, \n",
            "\n",
            "epoch 23:\n",
            "loss_D: 0.000191, loss_G_fake: 0.981,             \n",
            "loss_perturb: 4.153, loss_adv: 5.715, \n",
            "\n",
            "epoch 24:\n",
            "loss_D: 0.000190, loss_G_fake: 0.981,             \n",
            "loss_perturb: 4.113, loss_adv: 5.540, \n",
            "\n",
            "epoch 25:\n",
            "loss_D: 0.000189, loss_G_fake: 0.981,             \n",
            "loss_perturb: 4.104, loss_adv: 5.582, \n",
            "\n",
            "epoch 26:\n",
            "loss_D: 0.000188, loss_G_fake: 0.981,             \n",
            "loss_perturb: 4.082, loss_adv: 5.405, \n",
            "\n",
            "epoch 27:\n",
            "loss_D: 0.000188, loss_G_fake: 0.981,             \n",
            "loss_perturb: 4.050, loss_adv: 5.367, \n",
            "\n",
            "epoch 28:\n",
            "loss_D: 0.000187, loss_G_fake: 0.981,             \n",
            "loss_perturb: 4.026, loss_adv: 5.107, \n",
            "\n",
            "epoch 29:\n",
            "loss_D: 0.000187, loss_G_fake: 0.981,             \n",
            "loss_perturb: 3.968, loss_adv: 5.025, \n",
            "\n",
            "epoch 30:\n",
            "loss_D: 0.000186, loss_G_fake: 0.981,             \n",
            "loss_perturb: 3.935, loss_adv: 4.877, \n",
            "\n",
            "epoch 31:\n",
            "loss_D: 0.000186, loss_G_fake: 0.981,             \n",
            "loss_perturb: 3.895, loss_adv: 4.819, \n",
            "\n",
            "epoch 32:\n",
            "loss_D: 0.006847, loss_G_fake: 0.970,             \n",
            "loss_perturb: 3.859, loss_adv: 4.834, \n",
            "\n",
            "epoch 33:\n",
            "loss_D: 0.000128, loss_G_fake: 0.988,             \n",
            "loss_perturb: 3.819, loss_adv: 4.785, \n",
            "\n",
            "epoch 34:\n",
            "loss_D: 0.000171, loss_G_fake: 0.983,             \n",
            "loss_perturb: 3.753, loss_adv: 4.711, \n",
            "\n",
            "epoch 35:\n",
            "loss_D: 0.000185, loss_G_fake: 0.982,             \n",
            "loss_perturb: 3.731, loss_adv: 4.600, \n",
            "\n",
            "epoch 36:\n",
            "loss_D: 0.000188, loss_G_fake: 0.981,             \n",
            "loss_perturb: 3.626, loss_adv: 4.413, \n",
            "\n",
            "epoch 37:\n",
            "loss_D: 0.000189, loss_G_fake: 0.981,             \n",
            "loss_perturb: 3.538, loss_adv: 4.370, \n",
            "\n",
            "epoch 38:\n",
            "loss_D: 0.000189, loss_G_fake: 0.981,             \n",
            "loss_perturb: 3.470, loss_adv: 4.269, \n",
            "\n",
            "epoch 39:\n",
            "loss_D: 0.000188, loss_G_fake: 0.981,             \n",
            "loss_perturb: 3.433, loss_adv: 4.115, \n",
            "\n",
            "epoch 40:\n",
            "loss_D: 0.000187, loss_G_fake: 0.981,             \n",
            "loss_perturb: 3.345, loss_adv: 4.162, \n",
            "\n",
            "epoch 41:\n",
            "loss_D: 0.000186, loss_G_fake: 0.981,             \n",
            "loss_perturb: 3.298, loss_adv: 4.127, \n",
            "\n",
            "epoch 42:\n",
            "loss_D: 0.000186, loss_G_fake: 0.981,             \n",
            "loss_perturb: 3.268, loss_adv: 3.940, \n",
            "\n",
            "epoch 43:\n",
            "loss_D: 0.000185, loss_G_fake: 0.981,             \n",
            "loss_perturb: 3.190, loss_adv: 4.050, \n",
            "\n",
            "epoch 44:\n",
            "loss_D: 0.000185, loss_G_fake: 0.981,             \n",
            "loss_perturb: 3.166, loss_adv: 3.893, \n",
            "\n",
            "epoch 45:\n",
            "loss_D: 0.000185, loss_G_fake: 0.981,             \n",
            "loss_perturb: 3.101, loss_adv: 3.896, \n",
            "\n",
            "epoch 46:\n",
            "loss_D: 0.000185, loss_G_fake: 0.981,             \n",
            "loss_perturb: 3.086, loss_adv: 3.714, \n",
            "\n",
            "epoch 47:\n",
            "loss_D: 0.000184, loss_G_fake: 0.981,             \n",
            "loss_perturb: 3.028, loss_adv: 3.694, \n",
            "\n",
            "epoch 48:\n",
            "loss_D: 0.005501, loss_G_fake: 0.973,             \n",
            "loss_perturb: 3.015, loss_adv: 3.577, \n",
            "\n",
            "epoch 49:\n",
            "loss_D: 0.000151, loss_G_fake: 0.984,             \n",
            "loss_perturb: 2.940, loss_adv: 3.635, \n",
            "\n",
            "epoch 50:\n",
            "loss_D: 0.000140, loss_G_fake: 0.985,             \n",
            "loss_perturb: 2.949, loss_adv: 3.497, \n",
            "\n",
            "epoch 51:\n",
            "loss_D: 0.000148, loss_G_fake: 0.984,             \n",
            "loss_perturb: 2.901, loss_adv: 3.445, \n",
            "\n",
            "epoch 52:\n",
            "loss_D: 0.000157, loss_G_fake: 0.984,             \n",
            "loss_perturb: 2.874, loss_adv: 3.557, \n",
            "\n",
            "epoch 53:\n",
            "loss_D: 0.000165, loss_G_fake: 0.983,             \n",
            "loss_perturb: 2.868, loss_adv: 3.398, \n",
            "\n",
            "epoch 54:\n",
            "loss_D: 0.000171, loss_G_fake: 0.983,             \n",
            "loss_perturb: 2.828, loss_adv: 3.321, \n",
            "\n",
            "epoch 55:\n",
            "loss_D: 0.000176, loss_G_fake: 0.982,             \n",
            "loss_perturb: 2.803, loss_adv: 3.140, \n",
            "\n",
            "epoch 56:\n",
            "loss_D: 0.000179, loss_G_fake: 0.982,             \n",
            "loss_perturb: 2.814, loss_adv: 3.080, \n",
            "\n",
            "epoch 57:\n",
            "loss_D: 0.000180, loss_G_fake: 0.982,             \n",
            "loss_perturb: 2.781, loss_adv: 2.955, \n",
            "\n",
            "epoch 58:\n",
            "loss_D: 0.000181, loss_G_fake: 0.981,             \n",
            "loss_perturb: 2.752, loss_adv: 2.921, \n",
            "\n",
            "epoch 59:\n",
            "loss_D: 0.000182, loss_G_fake: 0.981,             \n",
            "loss_perturb: 2.746, loss_adv: 2.941, \n",
            "\n",
            "epoch 60:\n",
            "loss_D: 0.000182, loss_G_fake: 0.981,             \n",
            "loss_perturb: 2.737, loss_adv: 2.843, \n",
            "\n",
            "epoch 61:\n",
            "loss_D: 0.000183, loss_G_fake: 0.981,             \n",
            "loss_perturb: 2.713, loss_adv: 2.787, \n",
            "\n",
            "epoch 62:\n",
            "loss_D: 0.000183, loss_G_fake: 0.981,             \n",
            "loss_perturb: 2.671, loss_adv: 2.867, \n",
            "\n",
            "epoch 63:\n",
            "loss_D: 0.000183, loss_G_fake: 0.981,             \n",
            "loss_perturb: 2.665, loss_adv: 2.717, \n",
            "\n",
            "epoch 64:\n",
            "loss_D: 0.000183, loss_G_fake: 0.981,             \n",
            "loss_perturb: 2.644, loss_adv: 2.585, \n",
            "\n",
            "epoch 65:\n",
            "loss_D: 0.000183, loss_G_fake: 0.981,             \n",
            "loss_perturb: 2.649, loss_adv: 2.590, \n",
            "\n",
            "epoch 66:\n",
            "loss_D: 0.000183, loss_G_fake: 0.981,             \n",
            "loss_perturb: 2.622, loss_adv: 2.555, \n",
            "\n",
            "epoch 67:\n",
            "loss_D: 0.000183, loss_G_fake: 0.981,             \n",
            "loss_perturb: 2.618, loss_adv: 2.415, \n",
            "\n",
            "epoch 68:\n",
            "loss_D: 0.000183, loss_G_fake: 0.981,             \n",
            "loss_perturb: 2.609, loss_adv: 2.494, \n",
            "\n",
            "epoch 69:\n",
            "loss_D: 0.000183, loss_G_fake: 0.981,             \n",
            "loss_perturb: 2.631, loss_adv: 2.370, \n",
            "\n",
            "epoch 70:\n",
            "loss_D: 0.000183, loss_G_fake: 0.981,             \n",
            "loss_perturb: 2.578, loss_adv: 2.316, \n",
            "\n",
            "epoch 71:\n",
            "loss_D: 0.000183, loss_G_fake: 0.981,             \n",
            "loss_perturb: 2.593, loss_adv: 2.284, \n",
            "\n",
            "epoch 72:\n",
            "loss_D: 0.000183, loss_G_fake: 0.981,             \n",
            "loss_perturb: 2.551, loss_adv: 2.339, \n",
            "\n",
            "epoch 73:\n",
            "loss_D: 0.000183, loss_G_fake: 0.981,             \n",
            "loss_perturb: 2.544, loss_adv: 2.222, \n",
            "\n",
            "epoch 74:\n",
            "loss_D: 0.000183, loss_G_fake: 0.981,             \n",
            "loss_perturb: 2.545, loss_adv: 2.208, \n",
            "\n",
            "epoch 75:\n",
            "loss_D: 0.000183, loss_G_fake: 0.981,             \n",
            "loss_perturb: 2.525, loss_adv: 2.130, \n",
            "\n",
            "epoch 76:\n",
            "loss_D: 0.000183, loss_G_fake: 0.981,             \n",
            "loss_perturb: 2.521, loss_adv: 2.191, \n",
            "\n",
            "epoch 77:\n",
            "loss_D: 0.000183, loss_G_fake: 0.981,             \n",
            "loss_perturb: 2.502, loss_adv: 2.068, \n",
            "\n",
            "epoch 78:\n",
            "loss_D: 0.000182, loss_G_fake: 0.981,             \n",
            "loss_perturb: 2.483, loss_adv: 2.048, \n",
            "\n",
            "epoch 79:\n",
            "loss_D: 0.000182, loss_G_fake: 0.981,             \n",
            "loss_perturb: 2.480, loss_adv: 1.990, \n",
            "\n",
            "epoch 80:\n",
            "loss_D: 0.000182, loss_G_fake: 0.981,             \n",
            "loss_perturb: 2.419, loss_adv: 1.896, \n",
            "\n",
            "epoch 81:\n",
            "loss_D: 0.000182, loss_G_fake: 0.981,             \n",
            "loss_perturb: 2.382, loss_adv: 1.767, \n",
            "\n",
            "epoch 82:\n",
            "loss_D: 0.000182, loss_G_fake: 0.981,             \n",
            "loss_perturb: 2.371, loss_adv: 1.660, \n",
            "\n",
            "epoch 83:\n",
            "loss_D: 0.000182, loss_G_fake: 0.981,             \n",
            "loss_perturb: 2.354, loss_adv: 1.637, \n",
            "\n",
            "epoch 84:\n",
            "loss_D: 0.000182, loss_G_fake: 0.981,             \n",
            "loss_perturb: 2.349, loss_adv: 1.579, \n",
            "\n",
            "epoch 85:\n",
            "loss_D: 0.000182, loss_G_fake: 0.981,             \n",
            "loss_perturb: 2.342, loss_adv: 1.550, \n",
            "\n",
            "epoch 86:\n",
            "loss_D: 0.000182, loss_G_fake: 0.981,             \n",
            "loss_perturb: 2.333, loss_adv: 1.554, \n",
            "\n",
            "epoch 87:\n",
            "loss_D: 0.000182, loss_G_fake: 0.981,             \n",
            "loss_perturb: 2.331, loss_adv: 1.533, \n",
            "\n",
            "epoch 88:\n",
            "loss_D: 0.000182, loss_G_fake: 0.981,             \n",
            "loss_perturb: 2.321, loss_adv: 1.532, \n",
            "\n",
            "epoch 89:\n",
            "loss_D: 0.000182, loss_G_fake: 0.981,             \n",
            "loss_perturb: 2.321, loss_adv: 1.512, \n",
            "\n",
            "epoch 90:\n",
            "loss_D: 0.000182, loss_G_fake: 0.981,             \n",
            "loss_perturb: 2.316, loss_adv: 1.499, \n",
            "\n",
            "epoch 91:\n",
            "loss_D: 0.000182, loss_G_fake: 0.981,             \n",
            "loss_perturb: 2.312, loss_adv: 1.493, \n",
            "\n",
            "epoch 92:\n",
            "loss_D: 0.000182, loss_G_fake: 0.981,             \n",
            "loss_perturb: 2.311, loss_adv: 1.462, \n",
            "\n",
            "epoch 93:\n",
            "loss_D: 0.000182, loss_G_fake: 0.981,             \n",
            "loss_perturb: 2.303, loss_adv: 1.478, \n",
            "\n",
            "epoch 94:\n",
            "loss_D: 0.000182, loss_G_fake: 0.981,             \n",
            "loss_perturb: 2.304, loss_adv: 1.459, \n",
            "\n",
            "epoch 95:\n",
            "loss_D: 0.000182, loss_G_fake: 0.981,             \n",
            "loss_perturb: 2.303, loss_adv: 1.426, \n",
            "\n",
            "epoch 96:\n",
            "loss_D: 0.000182, loss_G_fake: 0.981,             \n",
            "loss_perturb: 2.296, loss_adv: 1.434, \n",
            "\n",
            "epoch 97:\n",
            "loss_D: 0.000182, loss_G_fake: 0.981,             \n",
            "loss_perturb: 2.295, loss_adv: 1.424, \n",
            "\n",
            "epoch 98:\n",
            "loss_D: 0.000182, loss_G_fake: 0.981,             \n",
            "loss_perturb: 2.292, loss_adv: 1.421, \n",
            "\n",
            "epoch 99:\n",
            "loss_D: 0.000182, loss_G_fake: 0.981,             \n",
            "loss_perturb: 2.294, loss_adv: 1.395, \n",
            "\n",
            "epoch 100:\n",
            "loss_D: 0.000182, loss_G_fake: 0.981,             \n",
            "loss_perturb: 2.294, loss_adv: 1.398, \n",
            "\n"
          ]
        }
      ]
    },
    {
      "cell_type": "markdown",
      "source": [
        "# Results"
      ],
      "metadata": {
        "id": "BHNn8NXR_zPM"
      }
    },
    {
      "cell_type": "code",
      "source": [
        "plt.plot(gen_losses)\n",
        "plt.ylabel(\"Generator Fake Loss\")\n",
        "plt.xlabel(\"Epochs\")\n",
        "plt.savefig(\"gen_losses.png\")"
      ],
      "metadata": {
        "id": "EIiRaD6pY1L9",
        "colab": {
          "base_uri": "https://localhost:8080/",
          "height": 279
        },
        "outputId": "0c4c71ea-85ec-4039-e6e0-60e46edc6c86"
      },
      "execution_count": null,
      "outputs": [
        {
          "output_type": "display_data",
          "data": {
            "text/plain": [
              "<Figure size 432x288 with 1 Axes>"
            ],
            "image/png": "[encoded data removed]"
          },
          "metadata": {
            "needs_background": "light"
          }
        }
      ]
    },
    {
      "cell_type": "code",
      "source": [
        "plt.plot(disc_losses)\n",
        "plt.ylabel(\"Discrimator Loss\")\n",
        "plt.xlabel(\"Epochs\")\n",
        "plt.savefig(\"disc_losses.png\")"
      ],
      "metadata": {
        "id": "OYy0mNssIUDq",
        "colab": {
          "base_uri": "https://localhost:8080/",
          "height": 279
        },
        "outputId": "22446476-e2ab-43e6-e32a-c622cdfb6071"
      },
      "execution_count": null,
      "outputs": [
        {
          "output_type": "display_data",
          "data": {
            "text/plain": [
              "<Figure size 432x288 with 1 Axes>"
            ],
            "image/png": "[encoded data removed]"
          },
          "metadata": {
            "needs_background": "light"
          }
        }
      ]
    },
    {
      "cell_type": "code",
      "source": [
        "plt.plot(adv_losses)\n",
        "plt.ylabel(\"Adversarial Loss\")\n",
        "plt.xlabel(\"Epochs\")\n",
        "plt.savefig(\"adv_losses.png\")"
      ],
      "metadata": {
        "id": "gTll09n_IlUH",
        "colab": {
          "base_uri": "https://localhost:8080/",
          "height": 281
        },
        "outputId": "44ebbf53-ba98-4a81-8416-7a22569010f4"
      },
      "execution_count": null,
      "outputs": [
        {
          "output_type": "display_data",
          "data": {
            "text/plain": [
              "<Figure size 432x288 with 1 Axes>"
            ],
            "image/png": "[encoded data removed]"
          },
          "metadata": {
            "needs_background": "light"
          }
        }
      ]
    },
    {
      "cell_type": "code",
      "source": [
        "plt.plot(pert_losses)\n",
        "plt.ylabel(\"Perturbation Loss\")\n",
        "plt.xlabel(\"Epochs\")\n",
        "plt.savefig(\"pert_losses.png\")"
      ],
      "metadata": {
        "id": "p6Oh9q-wIpe3",
        "colab": {
          "base_uri": "https://localhost:8080/",
          "height": 279
        },
        "outputId": "ba47fc86-36e1-4621-cdc8-4f16af981a16"
      },
      "execution_count": null,
      "outputs": [
        {
          "output_type": "display_data",
          "data": {
            "text/plain": [
              "<Figure size 432x288 with 1 Axes>"
            ],
            "image/png": "[encoded data removed]"
          },
          "metadata": {
            "needs_background": "light"
          }
        }
      ]
    },
    {
      "cell_type": "code",
      "source": [
        "import torch\n",
        "import torchvision.datasets\n",
        "import torchvision.transforms as transforms\n",
        "from torch.utils.data import DataLoader\n",
        "#import models\n",
        "#from models import MNIST_target_net\n",
        "\n",
        "use_cuda=True\n",
        "image_nc=3\n",
        "batch_size = 128\n",
        "\n",
        "gen_input_nc = image_nc\n",
        "\n",
        "# Define what device we are using\n",
        "print(\"CUDA Available: \",torch.cuda.is_available())\n",
        "device = torch.device(\"cuda\" if (use_cuda and torch.cuda.is_available()) else \"cpu\")\n",
        "\n",
        "# load the pretrained model\n",
        "pretrained_model = \"./CIFAR10_target_model.pth\"\n",
        "target_model = BaseModel_All_CNN().to(device)\n",
        "target_model.load_state_dict(torch.load(pretrained_model))\n",
        "target_model.eval()\n",
        "\n",
        "# load the generator of adversarial examples\n",
        "pretrained_generator_path = './models/netG_epoch_100.pth'\n",
        "pretrained_G = Generator(gen_input_nc, image_nc).to(device)\n",
        "pretrained_G.load_state_dict(torch.load(pretrained_generator_path))\n",
        "#pretrained_G.eval()\n",
        "\n",
        "# test adversarial examples in CIFAR-10 training dataset\n",
        "cifar_train = torchvision.datasets.CIFAR10('./dataset', train=True, transform=transforms.ToTensor(), download=True)\n",
        "train_dataloader = DataLoader(cifar_train, batch_size=batch_size, shuffle=False, num_workers=1)\n",
        "num_correct = 0\n",
        "for i, data in enumerate(train_dataloader, 0):\n",
        "    test_img, test_label = data\n",
        "    test_img, test_label = test_img.to(device), test_label.to(device)\n",
        "    perturbation = pretrained_G(test_img)\n",
        "    perturbation = torch.clamp(perturbation, -0.3, 0.3)\n",
        "    adv_img = perturbation + test_img\n",
        "    adv_img = torch.clamp(adv_img, 0, 1)\n",
        "    pred_lab = torch.argmax(target_model(adv_img),1)\n",
        "    num_correct += torch.sum(pred_lab==test_label,0)\n",
        "\n",
        "print('CIFAR-10 training dataset:')\n",
        "print('num_correct: ', num_correct.item())\n",
        "print('accuracy of adv imgs in training set: %f\\n'%(num_correct.item()/len(cifar_train)))\n",
        "\n",
        "# test adversarial examples in CIFAR-10 testing dataset\n",
        "cifar_test = torchvision.datasets.CIFAR10('./dataset', train=False, transform=transforms.ToTensor(), download=True)\n",
        "test_dataloader = DataLoader(cifar_test, batch_size=batch_size, shuffle=False, num_workers=1)\n",
        "num_correct = 0\n",
        "for i, data in enumerate(test_dataloader, 0):\n",
        "    test_img, test_label = data\n",
        "    test_img, test_label = test_img.to(device), test_label.to(device)\n",
        "    perturbation = pretrained_G(test_img)\n",
        "    perturbation = torch.clamp(perturbation, -0.3, 0.3)\n",
        "    adv_img = perturbation + test_img\n",
        "    adv_img = torch.clamp(adv_img, 0, 1)\n",
        "    pred_lab = torch.argmax(target_model(adv_img),1)\n",
        "    num_correct += torch.sum(pred_lab==test_label,0)\n",
        "\n",
        "\n",
        "print('num_correct: ', num_correct.item())\n",
        "print('accuracy of adv imgs in testing set: %f\\n'%(num_correct.item()/len(cifar_test)))\n"
      ],
      "metadata": {
        "id": "Ui-Dq0HhbYpQ",
        "colab": {
          "base_uri": "https://localhost:8080/"
        },
        "outputId": "19b3a49e-2a44-4806-b6e8-d7ab2716c192"
      },
      "execution_count": null,
      "outputs": [
        {
          "output_type": "stream",
          "name": "stdout",
          "text": [
            "CUDA Available:  True\n",
            "Num parameters:  1667166\n",
            "Files already downloaded and verified\n",
            "CIFAR-10 training dataset:\n",
            "num_correct:  2456\n",
            "accuracy of adv imgs in training set: 0.049120\n",
            "\n",
            "Files already downloaded and verified\n",
            "num_correct:  1307\n",
            "accuracy of adv imgs in testing set: 0.130700\n",
            "\n"
          ]
        }
      ]
    },
    {
      "cell_type": "code",
      "source": [
        "classes = ['airplane', 'automobile', 'bird', 'cat', 'deer', 'dog', 'frog', 'horse', 'ship', 'truck']"
      ],
      "metadata": {
        "id": "_Rf_se1XwE6U"
      },
      "execution_count": null,
      "outputs": []
    },
    {
      "cell_type": "code",
      "source": [
        "\n",
        "fig = plt.figure(figsize=(15, 7))\n",
        "\n",
        "for i in range(5):\n",
        "  im = transforms.ToPILImage()(test_img[i, :, :, :]).convert(\"RGB\")\n",
        "  im.save('Images/adv_example' + str(i) + '.png')\n",
        "\n",
        "  im1 = transforms.ToPILImage()(adv_img[i, :, :, :]).convert(\"RGB\")\n",
        "  im1.save('Images/test_image' + str(i) + '.png')\n",
        "\n",
        "  ax = fig.add_subplot(2, 5, i+1)\n",
        "  ax.title.set_text('Actual Label: {}'.format(classes[test_label[i]]))\n",
        "  ax.imshow(im)\n",
        "  plt.axis('off')\n",
        "\n",
        "  ax = fig.add_subplot(2, 5, i+6)\n",
        "  ax.title.set_text('Predicted Label: {}'.format(classes[pred_lab[i]]))\n",
        "  ax.imshow(im1)\n",
        "  plt.axis('off')\n",
        "\n",
        "plt.suptitle('Adversarial samples')\n",
        "plt.show();"
      ],
      "metadata": {
        "id": "CTUfNuKqZjkZ",
        "colab": {
          "base_uri": "https://localhost:8080/",
          "height": 447
        },
        "outputId": "371b000d-924d-4fd9-dc2e-69c35da9e0f2"
      },
      "execution_count": null,
      "outputs": [
        {
          "output_type": "display_data",
          "data": {
            "text/plain": [
              "<Figure size 1080x504 with 10 Axes>"
            ],
            "image/png": "[encoded data removed]"
          },
          "metadata": {
            "needs_background": "light"
          }
        }
      ]
    }
  ]
}